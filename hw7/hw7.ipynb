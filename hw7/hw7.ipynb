{
  "cells": [
    {
      "cell_type": "raw",
      "metadata": {},
      "source": [
        "---\n",
        "title: Homework 7 - Creating a resume database\n",
        "author: Emil Baez Salazar\n",
        "date: last-modified\n",
        "format:\n",
        "    html:\n",
        "        theme: cosmo\n",
        "        toc: true\n",
        "        embed-resources: true\n",
        "        code-copy: true\n",
        "---"
      ],
      "id": "05a1bedd"
    },
    {
      "cell_type": "markdown",
      "metadata": {},
      "source": [
        "The document includes an overview and description of the database's purpose and structure, a Crow's-foot diagram illustrating the relationships between tables, examples of the types of data stored, and sample queries demonstrating how to interact with the database.\n",
        "\n",
        "\n",
        "GITHUB URL:  <https://github.com/cmsc-vcu/cmsc508-fa2023-hw7-EmilSalazar>\n"
      ],
      "id": "d1136c4d"
    },
    {
      "cell_type": "code",
      "metadata": {},
      "source": [
        "#| eval: true\n",
        "#| echo: false\n",
        "import os\n",
        "import sys\n",
        "import pandas as pd\n",
        "from tabulate import tabulate\n",
        "from dotenv import load_dotenv\n",
        "from sqlalchemy import create_engine, text\n",
        "from sqlalchemy.exc import OperationalError, ProgrammingError\n",
        "from IPython.display import display, Markdown"
      ],
      "id": "6af8db4d",
      "execution_count": null,
      "outputs": []
    },
    {
      "cell_type": "code",
      "metadata": {},
      "source": [
        "#| eval: true\n",
        "#| echo: false\n",
        "\n",
        "# modify config_map to reflect credentials needed by this program\n",
        "config_map = {\n",
        "    'user':'HW7_USER',\n",
        "    'password':'HW7_PASSWORD',\n",
        "    'host':'HW7_HOST',\n",
        "    'database':'HW7_DB_NAME'\n",
        "}\n",
        "# load and store credentials\n",
        "load_dotenv()\n",
        "config = {}\n",
        "for key in config_map.keys():\n",
        "    config[key] = os.getenv(config_map[key])\n",
        "flag = False\n",
        "for param in config.keys():\n",
        "    if config[param] is None:\n",
        "        flag = True\n",
        "        print(f\"Missing {config_map[param]} in .env file\")\n",
        "#if flag:\n",
        "#    sys.exit(1)"
      ],
      "id": "93e47fc3",
      "execution_count": null,
      "outputs": []
    },
    {
      "cell_type": "code",
      "metadata": {},
      "source": [
        "#| eval: true\n",
        "#| echo: false\n",
        "\n",
        "# build a sqlalchemy engine string\n",
        "engine_uri = f\"mysql+pymysql://{config['user']}:{config['password']}@{config['host']}/{config['database']}\"\n",
        "\n",
        "# create a database connection.  THIS IS THE ACTUAL CONNECTION!\n",
        "try:\n",
        "    cnx = create_engine(engine_uri)\n",
        "except ArgumentError as e:\n",
        "    print(f\"create_engine: Argument Error: {e}\")\n",
        "    #sys.exit(1)\n",
        "except NoSuchModuleError as e:\n",
        "    print(f\"create_engine: No Such Module Error: {e}\")\n",
        "    #sys.exit(1)\n",
        "except Exception as e:\n",
        "    print(f\"create_engine: An error occurred: {e}\")\n",
        "    #sys.exit(1)"
      ],
      "id": "e1d297e9",
      "execution_count": null,
      "outputs": []
    },
    {
      "cell_type": "code",
      "metadata": {},
      "source": [
        "#| echo: false\n",
        "#| eval: true\n",
        "\n",
        "# Do a quick test of the connection and trap the errors better!\n",
        "try:\n",
        "    databases = pd.read_sql(\"show databases\",cnx)\n",
        "except ImportError as e:\n",
        "    print(f\"Error: {e}\")\n",
        "except OperationalError as e:\n",
        "    print(f\"Database/SQL Error:\\n{str(e)}\\n\")\n",
        "except ProgrammingError as e:\n",
        "    print(f\"Programming Error:\\n{str(e)}\\n\")\n",
        "except Exception as e:\n",
        "    print(f\"An error occurred:\\n{str(e)}\\n\")"
      ],
      "id": "f10c3e2b",
      "execution_count": null,
      "outputs": []
    },
    {
      "cell_type": "markdown",
      "metadata": {},
      "source": [
        "## Overview and description\n",
        "\n",
        "This database represents a company-wide resume capturing the collective skills and certifications of all the people in our company. It consists of three main tables - people, skills, and roles - which work together to find employees with specific skills, list the skills of any employee and help find gaps in the skill sets of employees in specific roles.\n",
        "\n",
        "## Crows-foot diagram\n",
        "\n",
        "The diagram visually represents the structure of our database, highlighting the relationships between people, their skills, and roles. It shows how the people, skills, and roles tables are interconnected via the peopleskills and peopleroles tables, illustrating a many-to-many relationship among them. This setup allows for tracking which skills each person has and what roles they occupy within the organization.\n",
        "\n",
        "\n",
        "```{mermaid}\n",
        "erDiagram\n",
        "\n",
        "    people ||--o{ peopleskills : \"have\"\n",
        "    skills ||--o{ peopleskills : \"includes\"\n",
        "    people ||--o{ peopleroles : \"occupy\"\n",
        "    roles ||--o{ peopleroles : \"assign\"\n",
        "\n",
        "    skills {\n",
        "    INT id \"Primary Key\"\n",
        "    VARCHAR name\n",
        "    VARCHAR description\n",
        "    VARCHAR tag\n",
        "    VARCHAR url\n",
        "    VARCHAR time_commitment\n",
        "    }\n",
        "\n",
        "    people {\n",
        "    INT id\n",
        "    VARCHAR first_name\n",
        "    VARCHAR last_name\n",
        "    VARCHAR email\n",
        "    VARCHAR linkedIn_url\n",
        "    VARCHAR headshot_url\n",
        "    VARCHAR discord_handle\n",
        "    VARCHAR brief_bio\n",
        "    DATE date_joined\n",
        "    }\n",
        "\n",
        "    peopleskills {\n",
        "    INT id\n",
        "    INT skills_id\n",
        "    INT people_id\n",
        "    DATE date_acquired\n",
        "    }\n",
        "\n",
        "    roles {\n",
        "    INT id\n",
        "    VARCHAR name\n",
        "    INT sort_priority\n",
        "    }\n",
        "\n",
        "    peopleroles {\n",
        "    INT id\n",
        "    INT people_id\n",
        "    INT role_ID\n",
        "    DATE date_assigned\n",
        "    }\n",
        "```\n",
        "\n",
        "\n",
        "## Examples of data in the database\n",
        "\n",
        "### People table\n",
        "\n",
        "The *people* table stores information about individuals. Each record in this table represents a person, with details about their professional lives. Some of these details include their name, linkedIn, discord, bio, and more.\n",
        "\n",
        "Below is a list of data in the *people* table.\n"
      ],
      "id": "eccc3a26"
    },
    {
      "cell_type": "code",
      "metadata": {},
      "source": [
        "#| echo: false\n",
        "#| eval: true\n",
        "sql = f\"\"\"\n",
        "select * from people;\n",
        "\"\"\"\n",
        "## Add code to list roles table here\n",
        "try:\n",
        "    df = pd.read_sql(sql,cnx)\n",
        "    df\n",
        "except Exception as e:\n",
        "    message = str(e)\n",
        "    print(f\"An error occurred:\\n\\n{message}\\n\\nIgnoring and moving on.\")\n",
        "    df = pd.DataFrame()\n",
        "df"
      ],
      "id": "7a2ed793",
      "execution_count": null,
      "outputs": []
    },
    {
      "cell_type": "markdown",
      "metadata": {},
      "source": [
        "### Skills table\n",
        "\n",
        "The *skills* table contains details about various skills. Each record is a distinct skill with a description and other relevant information. Some of these details also include a URL for more information about the skill and the time commitment needed for said skill.\n",
        "\n",
        "Below is a list of data in the *skills* table.\n"
      ],
      "id": "935c4776"
    },
    {
      "cell_type": "code",
      "metadata": {},
      "source": [
        "#| echo: false\n",
        "#| eval: true\n",
        "sql = f\"\"\"\n",
        "select * from skills;\n",
        "\"\"\"\n",
        "## Add code to list roles table here\n",
        "try:\n",
        "    df = pd.read_sql(sql,cnx)\n",
        "    df\n",
        "except Exception as e:\n",
        "    message = str(e)\n",
        "    print(f\"An error occurred:\\n\\n{message}\\n\\nIgnoring and moving on.\")\n",
        "    df = pd.DataFrame()\n",
        "df"
      ],
      "id": "71dd9a04",
      "execution_count": null,
      "outputs": []
    },
    {
      "cell_type": "markdown",
      "metadata": {},
      "source": [
        "### Roles table\n",
        "\n",
        "The *roles* table is designed to keep track of various roles or positions. Each record has a specific role, often used in a professional environment. Also included is the sort priority to determine the order in which roles are sorted or listed.\n",
        "\n",
        "Below is a list of data in the *roles* table.\n"
      ],
      "id": "33e078bc"
    },
    {
      "cell_type": "code",
      "metadata": {},
      "source": [
        "#| echo: false\n",
        "#| eval: true\n",
        "sql = f\"\"\"\n",
        "select * from roles;\n",
        "\"\"\"\n",
        "## Add code to list roles table here\n",
        "try:\n",
        "    df = pd.read_sql(sql,cnx)\n",
        "    df\n",
        "except Exception as e:\n",
        "    message = str(e)\n",
        "    print(f\"An error occurred:\\n\\n{message}\\n\\nIgnoring and moving on.\")\n",
        "    df = pd.DataFrame()\n",
        "df"
      ],
      "id": "c7254959",
      "execution_count": null,
      "outputs": []
    },
    {
      "cell_type": "markdown",
      "metadata": {},
      "source": [
        "## Sample queries\n",
        "\n",
        "Let's explore the database!\n",
        "\n",
        "# List skill names, tags, and descriptions ordered by name\n"
      ],
      "id": "799a1ebb"
    },
    {
      "cell_type": "code",
      "metadata": {},
      "source": [
        "sql_skills_ordered_by_name = \"\"\"\n",
        "SELECT name, tag, description FROM skills ORDER BY name;\n",
        "\"\"\""
      ],
      "id": "0c684c27",
      "execution_count": null,
      "outputs": []
    },
    {
      "cell_type": "code",
      "metadata": {},
      "source": [
        "#| echo: false\n",
        "#| eval: true\n",
        "try:\n",
        "    df = pd.read_sql(sql_skills_ordered_by_name,cnx)\n",
        "    df\n",
        "except Exception as e:\n",
        "    message = str(e)\n",
        "    print(f\"An error occurred:\\n\\n{message}\\n\\nIgnoring and moving on.\")\n",
        "    df = pd.DataFrame()\n",
        "df"
      ],
      "id": "5b99b458",
      "execution_count": null,
      "outputs": []
    },
    {
      "cell_type": "markdown",
      "metadata": {},
      "source": [
        "### List people names and email addresses ordered by last_name\n"
      ],
      "id": "27c0d081"
    },
    {
      "cell_type": "code",
      "metadata": {},
      "source": [
        "sql_people_names_emails_ordered = \"\"\"\n",
        "SELECT CONCAT(first_name, ' ', last_name) AS full_name, email FROM people ORDER BY last_name;\n",
        "\"\"\""
      ],
      "id": "ad8f2367",
      "execution_count": null,
      "outputs": []
    },
    {
      "cell_type": "code",
      "metadata": {},
      "source": [
        "#| echo: false\n",
        "#| eval: true\n",
        "try:\n",
        "    df = pd.read_sql(sql_people_names_emails_ordered,cnx)\n",
        "    df\n",
        "except Exception as e:\n",
        "    message = str(e)\n",
        "    print(f\"An error occurred:\\n\\n{message}\\n\\nIgnoring and moving on.\")\n",
        "    df = pd.DataFrame()\n",
        "df"
      ],
      "id": "6ce535ec",
      "execution_count": null,
      "outputs": []
    },
    {
      "cell_type": "markdown",
      "metadata": {},
      "source": [
        "### List skill names of Person 1\n"
      ],
      "id": "d0627c74"
    },
    {
      "cell_type": "code",
      "metadata": {},
      "source": [
        "sql_skills_of_person_1 = \"\"\"\n",
        "SELECT s.name FROM skills s JOIN peopleskills ps ON s.id = ps.skills_id WHERE ps.people_id = 1;\n",
        "\"\"\""
      ],
      "id": "4a5d7939",
      "execution_count": null,
      "outputs": []
    },
    {
      "cell_type": "code",
      "metadata": {},
      "source": [
        "#| echo: false\n",
        "#| eval: true\n",
        "try:\n",
        "    df = pd.read_sql(sql_skills_of_person_1,cnx)\n",
        "    df\n",
        "except Exception as e:\n",
        "    message = str(e)\n",
        "    print(f\"An error occurred:\\n\\n{message}\\n\\nIgnoring and moving on.\")\n",
        "    df = pd.DataFrame()\n",
        "df"
      ],
      "id": "939b984e",
      "execution_count": null,
      "outputs": []
    },
    {
      "cell_type": "markdown",
      "metadata": {},
      "source": [
        "### List people names with Skill 6\n"
      ],
      "id": "69a2ec8c"
    },
    {
      "cell_type": "code",
      "metadata": {},
      "source": [
        "sql_people_with_skill_6 = \"\"\"\n",
        "SELECT CONCAT(p.first_name, ' ', p.last_name) AS full_name FROM people p JOIN peopleskills ps ON p.id = ps.people_id WHERE ps.skills_id = 6;\n",
        "\"\"\""
      ],
      "id": "9a6e88c1",
      "execution_count": null,
      "outputs": []
    },
    {
      "cell_type": "code",
      "metadata": {},
      "source": [
        "#| echo: false\n",
        "#| eval: true\n",
        "try:\n",
        "    df = pd.read_sql(sql_people_with_skill_6,cnx)\n",
        "    df\n",
        "except Exception as e:\n",
        "    message = str(e)\n",
        "    print(f\"An error occurred:\\n\\n{message}\\n\\nIgnoring and moving on.\")\n",
        "    df = pd.DataFrame()\n",
        "df"
      ],
      "id": "9bb91059",
      "execution_count": null,
      "outputs": []
    },
    {
      "cell_type": "markdown",
      "metadata": {},
      "source": [
        "### List people with a DEVELOPER role\n"
      ],
      "id": "3196317e"
    },
    {
      "cell_type": "code",
      "metadata": {},
      "source": [
        "sql_people_with_developer_role = \"\"\"\n",
        "SELECT CONCAT(p.first_name, ' ', p.last_name) AS full_name FROM people p JOIN peopleroles pr ON p.id = pr.people_id JOIN roles r ON pr.role_id = r.id WHERE r.name = 'Developer';\n",
        "\"\"\""
      ],
      "id": "c8c1389a",
      "execution_count": null,
      "outputs": []
    },
    {
      "cell_type": "code",
      "metadata": {},
      "source": [
        "#| echo: false\n",
        "#| eval: true\n",
        "try:\n",
        "    df = pd.read_sql(sql_people_with_developer_role,cnx)\n",
        "    df\n",
        "except Exception as e:\n",
        "    message = str(e)\n",
        "    print(f\"An error occurred:\\n\\n{message}\\n\\nIgnoring and moving on.\")\n",
        "    df = pd.DataFrame()\n",
        "df"
      ],
      "id": "f8657c66",
      "execution_count": null,
      "outputs": []
    },
    {
      "cell_type": "markdown",
      "metadata": {},
      "source": [
        "### List names and email addresses of people without skills\n"
      ],
      "id": "8f3db055"
    },
    {
      "cell_type": "code",
      "metadata": {},
      "source": [
        "sql_people_without_skills = \"\"\"\n",
        "SELECT CONCAT(p.first_name, ' ', p.last_name) AS full_name, p.email FROM people p WHERE NOT EXISTS (SELECT 1 FROM peopleskills ps WHERE ps.people_id = p.id);\n",
        "\"\"\""
      ],
      "id": "1dd9ef6b",
      "execution_count": null,
      "outputs": []
    },
    {
      "cell_type": "code",
      "metadata": {},
      "source": [
        "#| echo: false\n",
        "#| eval: true\n",
        "try:\n",
        "    df = pd.read_sql(sql_people_without_skills,cnx)\n",
        "    df\n",
        "except Exception as e:\n",
        "    message = str(e)\n",
        "    print(f\"An error occurred:\\n\\n{message}\\n\\nIgnoring and moving on.\")\n",
        "    df = pd.DataFrame()\n",
        "df"
      ],
      "id": "41bbb808",
      "execution_count": null,
      "outputs": []
    },
    {
      "cell_type": "markdown",
      "metadata": {},
      "source": [
        "### List names and tags of unused skills\n"
      ],
      "id": "03c02623"
    },
    {
      "cell_type": "code",
      "metadata": {},
      "source": [
        "sql_unused_skills = \"\"\"\n",
        "SELECT s.name, s.tag FROM skills s WHERE NOT EXISTS (SELECT 1 FROM peopleskills ps WHERE ps.skills_id = s.id);\n",
        "\"\"\""
      ],
      "id": "662a0d7c",
      "execution_count": null,
      "outputs": []
    },
    {
      "cell_type": "code",
      "metadata": {},
      "source": [
        "#| echo: false\n",
        "#| eval: true\n",
        "try:\n",
        "    df = pd.read_sql(sql_unused_skills,cnx)\n",
        "    df\n",
        "except Exception as e:\n",
        "    message = str(e)\n",
        "    print(f\"An error occurred:\\n\\n{message}\\n\\nIgnoring and moving on.\")\n",
        "    df = pd.DataFrame()\n",
        "df"
      ],
      "id": "8b4467ef",
      "execution_count": null,
      "outputs": []
    },
    {
      "cell_type": "markdown",
      "metadata": {},
      "source": [
        "### List people names and skill names with the BOSS role\n"
      ],
      "id": "4fd2d1d9"
    },
    {
      "cell_type": "code",
      "metadata": {},
      "source": [
        "sql_people_skills_with_boss_role = \"\"\"\n",
        "SELECT CONCAT(p.first_name, ' ', p.last_name) AS full_name, s.name AS skill_name FROM people p JOIN peopleroles pr ON p.id = pr.people_id JOIN roles r ON pr.role_id = r.id JOIN peopleskills ps ON p.id = ps.people_id JOIN skills s ON ps.skills_id = s.id WHERE r.name = 'Boss';\n",
        "\"\"\""
      ],
      "id": "0a197cb4",
      "execution_count": null,
      "outputs": []
    },
    {
      "cell_type": "code",
      "metadata": {},
      "source": [
        "#| echo: false\n",
        "#| eval: true\n",
        "try:\n",
        "    df = pd.read_sql(sql_people_skills_with_boss_role,cnx)\n",
        "    df\n",
        "except Exception as e:\n",
        "    message = str(e)\n",
        "    print(f\"An error occurred:\\n\\n{message}\\n\\nIgnoring and moving on.\")\n",
        "    df = pd.DataFrame()\n",
        "df"
      ],
      "id": "56c6617e",
      "execution_count": null,
      "outputs": []
    },
    {
      "cell_type": "markdown",
      "metadata": {},
      "source": [
        "### List ids and names of unused roles\n"
      ],
      "id": "17ded32c"
    },
    {
      "cell_type": "code",
      "metadata": {},
      "source": [
        "sql_unused_roles = \"\"\"\n",
        "SELECT r.id, r.name FROM roles r WHERE NOT EXISTS (SELECT 1 FROM peopleroles pr WHERE pr.role_id = r.id);\n",
        "\"\"\""
      ],
      "id": "0cda41b8",
      "execution_count": null,
      "outputs": []
    },
    {
      "cell_type": "code",
      "metadata": {},
      "source": [
        "#| echo: false\n",
        "#| eval: true\n",
        "try:\n",
        "    df = pd.read_sql(sql_unused_roles,cnx)\n",
        "    df\n",
        "except Exception as e:\n",
        "    message = str(e)\n",
        "    print(f\"An error occurred:\\n\\n{message}\\n\\nIgnoring and moving on.\")\n",
        "    df = pd.DataFrame()\n",
        "df"
      ],
      "id": "ef9220cc",
      "execution_count": null,
      "outputs": []
    },
    {
      "cell_type": "markdown",
      "metadata": {},
      "source": [
        "## Reflection\n",
        "\n",
        "My experience with this assignment has been very positive. I think the assignment was surprisingly easier and more enjoyable than the previous one. I think the main reason is that since I already knew how to set everything up, I didn't have to worry about simply adding data to the database. My only complaint is how tedious the assignment was since there was a lot of data to be added but, I think it was very helpful nonetheless since there was a variety of ways we were adding it between sections. Overall, I actually learned a lot. I think this was the assignment I needed to finally understand databases and SQL better. I feel a lot better now about the project after this!"
      ],
      "id": "d51cc9a2"
    }
  ],
  "metadata": {
    "kernelspec": {
      "name": "python3",
      "language": "python",
      "display_name": "Python 3 (ipykernel)"
    }
  },
  "nbformat": 4,
  "nbformat_minor": 5
}